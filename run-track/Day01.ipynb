{
 "cells": [
  {
   "cell_type": "markdown",
   "metadata": {},
   "source": [
    "**Job 1.0**"
   ]
  },
  {
   "cell_type": "code",
   "execution_count": 72,
   "metadata": {},
   "outputs": [
    {
     "name": "stdout",
     "output_type": "stream",
     "text": [
      "1\n",
      "2\n",
      "Fizz\n",
      "4\n",
      "Buzz\n",
      "Fizz\n",
      "7\n",
      "8\n",
      "Fizz\n",
      "Buzz\n",
      "11\n",
      "Fizz\n",
      "13\n",
      "14\n",
      "FizzBuzz\n",
      "16\n",
      "17\n",
      "Fizz\n",
      "19\n",
      "Buzz\n",
      "Fizz\n",
      "22\n",
      "23\n",
      "Fizz\n",
      "Buzz\n",
      "26\n",
      "Fizz\n",
      "28\n",
      "29\n",
      "FizzBuzz\n",
      "31\n",
      "32\n",
      "Fizz\n",
      "34\n",
      "Buzz\n",
      "Fizz\n",
      "37\n",
      "38\n",
      "Fizz\n",
      "Buzz\n",
      "41\n",
      "Fizz\n",
      "43\n",
      "44\n",
      "FizzBuzz\n",
      "46\n",
      "47\n",
      "Fizz\n",
      "49\n",
      "Buzz\n",
      "Fizz\n",
      "52\n",
      "53\n",
      "Fizz\n",
      "Buzz\n",
      "56\n",
      "Fizz\n",
      "58\n",
      "59\n",
      "FizzBuzz\n",
      "61\n",
      "62\n",
      "Fizz\n",
      "64\n",
      "Buzz\n",
      "Fizz\n",
      "67\n",
      "68\n",
      "Fizz\n",
      "Buzz\n",
      "71\n",
      "Fizz\n",
      "73\n",
      "74\n",
      "FizzBuzz\n",
      "76\n",
      "77\n",
      "Fizz\n",
      "79\n",
      "Buzz\n",
      "Fizz\n",
      "82\n",
      "83\n",
      "Fizz\n",
      "Buzz\n",
      "86\n",
      "Fizz\n",
      "88\n",
      "89\n",
      "FizzBuzz\n",
      "91\n",
      "92\n",
      "Fizz\n",
      "94\n",
      "Buzz\n",
      "Fizz\n",
      "97\n",
      "98\n",
      "Fizz\n",
      "Buzz\n"
     ]
    }
   ],
   "source": [
    "for i in range(1,101):\n",
    "    if i%3 == 0 and i%5 == 0:\n",
    "        print('FizzBuzz')\n",
    "    elif i%3 == 0:\n",
    "        print('Fizz')\n",
    "    elif i%5 == 0:\n",
    "        print('Buzz')\n",
    "    else: \n",
    "        print(i)"
   ]
  },
  {
   "cell_type": "markdown",
   "metadata": {},
   "source": [
    "**Job1.1**"
   ]
  },
  {
   "cell_type": "code",
   "execution_count": 73,
   "metadata": {},
   "outputs": [
    {
     "name": "stdout",
     "output_type": "stream",
     "text": [
      "|----------|\n",
      "|          |\n",
      "|----------|\n"
     ]
    }
   ],
   "source": [
    "def draw_rectangle(width, height):\n",
    "    if height == 0 or width == 0: \n",
    "        print('dimension nulle')\n",
    "    else:\n",
    "        print(\"|\"+'-'*width+ \"|\")\n",
    "        n = height - 1\n",
    "        while n > 1:\n",
    "            print(\"|\"+' '*width+ \"|\")\n",
    "            n -= 1 \n",
    "        if n == 1:\n",
    "            print(\"|\"+'-'*width+ \"|\")\n",
    "draw_rectangle(10,3)"
   ]
  },
  {
   "cell_type": "markdown",
   "metadata": {},
   "source": [
    "**Job 1.2**"
   ]
  },
  {
   "cell_type": "code",
   "execution_count": 74,
   "metadata": {},
   "outputs": [
    {
     "name": "stdout",
     "output_type": "stream",
     "text": [
      "     /\\\n",
      "    /  \\\n",
      "   /    \\\n",
      "  /      \\\n",
      " /________\\\n"
     ]
    }
   ],
   "source": [
    "def draw_triangle(height):\n",
    "    if height == 0 or height == 1:\n",
    "        print('dimension petite')\n",
    "    i = 0\n",
    "    j = 0\n",
    "    while i < (height-1) :\n",
    "        print(' '*(height - i) + '/'+' '* (j+i)+\"\\\\\")\n",
    "        j+=1\n",
    "        i+=1 \n",
    "    print(' '+'/'+'_'* (j+i)+'\\\\')\n",
    "draw_triangle(5)"
   ]
  },
  {
   "cell_type": "markdown",
   "metadata": {},
   "source": [
    "**Job 1.3**"
   ]
  },
  {
   "cell_type": "code",
   "execution_count": 75,
   "metadata": {},
   "outputs": [
    {
     "name": "stdout",
     "output_type": "stream",
     "text": [
      "The final grades are: [45, 42, 45, 38, 0, 85, 82, 85, 40, 12]\n"
     ]
    }
   ],
   "source": [
    "def rounded_notes(notes):\n",
    "    rounded_notes = notes\n",
    "    for i in range(len(rounded_notes)):\n",
    "        if rounded_notes[i] >= 40:\n",
    "            for j in range(0, 3):\n",
    "                if (rounded_notes[i] + j) % 5 == 0:\n",
    "                    rounded_notes[i] = rounded_notes[i]+j\n",
    "    return rounded_notes\n",
    "A = rounded_notes([43, 42, 45, 38, 0, 85, 82, 83, 40, 12])\n",
    "print(f\"The final grades are: {A}\")"
   ]
  },
  {
   "cell_type": "markdown",
   "metadata": {},
   "source": [
    "**Job 1.4**"
   ]
  },
  {
   "cell_type": "code",
   "execution_count": 76,
   "metadata": {},
   "outputs": [
    {
     "name": "stdout",
     "output_type": "stream",
     "text": [
      "The closest word in alphabetical order is: abced\n"
     ]
    }
   ],
   "source": [
    "def closest_word(word):\n",
    "    word_list = list(word)\n",
    "    for j in range(len(word)-2, -1, -1):\n",
    "        for i in range(len(word_list)):\n",
    "            if ord(word[j]) < ord(word_list[i]):\n",
    "                word_list[j], word_list[i] = word_list[i], word_list[j]\n",
    "                return ''.join(word_list)\n",
    "    return word\n",
    "\n",
    "word = input(\"Enter one word without spaces or any character other than the 26 letters of the alphabet: \").lower()\n",
    "B = closest_word(word)\n",
    "print(f\"The closest word in alphabetical order is: {B}\")"
   ]
  }
 ],
 "metadata": {
  "kernelspec": {
   "display_name": "Python 3",
   "language": "python",
   "name": "python3"
  },
  "language_info": {
   "codemirror_mode": {
    "name": "ipython",
    "version": 3
   },
   "file_extension": ".py",
   "mimetype": "text/x-python",
   "name": "python",
   "nbconvert_exporter": "python",
   "pygments_lexer": "ipython3",
   "version": "3.11.5"
  },
  "orig_nbformat": 4
 },
 "nbformat": 4,
 "nbformat_minor": 2
}
