{
 "cells": [
  {
   "cell_type": "markdown",
   "metadata": {},
   "source": [
    "**Job 4.0**"
   ]
  },
  {
   "cell_type": "code",
   "execution_count": 1,
   "metadata": {},
   "outputs": [
    {
     "name": "stdout",
     "output_type": "stream",
     "text": [
      "The factorial of 9 is : 362880\n"
     ]
    }
   ],
   "source": [
    "def factorial(n):\n",
    "    if n == 0:\n",
    "        return 1\n",
    "    else :\n",
    "        return n * factorial(n-1)\n",
    "x = int(input('Enter a whole number :'))\n",
    "print('The factorial of {} is : {}'.format(x, factorial(x)))"
   ]
  },
  {
   "cell_type": "markdown",
   "metadata": {},
   "source": [
    "**Job 4.1**"
   ]
  },
  {
   "cell_type": "code",
   "execution_count": null,
   "metadata": {},
   "outputs": [
    {
     "name": "stdout",
     "output_type": "stream",
     "text": [
      "The power 4 of 2 is : 8\n"
     ]
    }
   ],
   "source": [
    "def power(x, n):\n",
    "    if n == 0 and x == 0:\n",
    "        print('undefined format')\n",
    "    if n == 0 or n == 1:\n",
    "        return 1\n",
    "    else :\n",
    "        return x * power(x, n-1)\n",
    "x = int(input('Enter a whole number :'))\n",
    "n = int(input('Enter a power :'))\n",
    "\n",
    "print('The power {} of {} is : {}'.format(n, x, power(x, n)))"
   ]
  },
  {
   "cell_type": "markdown",
   "metadata": {},
   "source": [
    "**Job 4.2**"
   ]
  },
  {
   "cell_type": "code",
   "execution_count": null,
   "metadata": {},
   "outputs": [
    {
     "name": "stdout",
     "output_type": "stream",
     "text": [
      "Solution:\n",
      "O O X O\n",
      "X O O O\n",
      "O O O X\n",
      "O X O O\n",
      "\n"
     ]
    }
   ],
   "source": [
    "def board(n):\n",
    "    board = [[\"O\"] * n for i in range(n)]\n",
    "    return board\n",
    "def print_board(board):\n",
    "    for row in board:\n",
    "        print(' '.join(row))\n",
    "    print()\n",
    "def is_safe(board, row, col):\n",
    "    for i in range(len(board)):\n",
    "        if board[row][i] == 'X' or board[i][col] == 'X':\n",
    "            return False\n",
    "    for i in range(len(board)):\n",
    "        for j in range(len(board)):\n",
    "            if (row + col == i + j or row - col == i - j) and board[i][j] == 'X':\n",
    "                return False\n",
    "    return True\n",
    "def place_checkers(board, n, col=0):\n",
    "    if col >= n:\n",
    "        return True\n",
    "    for i in range(n):\n",
    "        if is_safe(board, i, col):\n",
    "            board[i][col] = 'X'\n",
    "            if place_checkers(board, n, col + 1):\n",
    "                return True\n",
    "            board[i][col] = 'O' \n",
    "    return False\n",
    "if __name__ == \"__main__\":\n",
    "    n = int(input(\"Enter the value of n: \"))\n",
    "    if n < 4:\n",
    "        print(\"No solution exists for n less than 4.\")\n",
    "    else:\n",
    "        board = board(n)\n",
    "        if place_checkers(board, n):\n",
    "            print(\"Solution:\")\n",
    "            print_board(board)\n",
    "        else:\n",
    "            print(\"No solution exists for the given n.\")"
   ]
  },
  {
   "cell_type": "markdown",
   "metadata": {},
   "source": [
    "**Job 4.3**"
   ]
  },
  {
   "cell_type": "code",
   "execution_count": 10,
   "metadata": {},
   "outputs": [
    {
     "ename": "TypeError",
     "evalue": "can only concatenate str (not \"int\") to str",
     "output_type": "error",
     "traceback": [
      "\u001b[1;31m---------------------------------------------------------------------------\u001b[0m",
      "\u001b[1;31mTypeError\u001b[0m                                 Traceback (most recent call last)",
      "\u001b[1;32mc:\\Users\\pcBEN\\Desktop\\algo pro\\TD4algo.ipynb Cell 8\u001b[0m line \u001b[0;36m4\n\u001b[0;32m     <a href='vscode-notebook-cell:/c%3A/Users/pcBEN/Desktop/algo%20pro/TD4algo.ipynb#X10sZmlsZQ%3D%3D?line=41'>42</a>\u001b[0m maze \u001b[39m=\u001b[39m load_maze(maze_file)\n\u001b[0;32m     <a href='vscode-notebook-cell:/c%3A/Users/pcBEN/Desktop/algo%20pro/TD4algo.ipynb#X10sZmlsZQ%3D%3D?line=42'>43</a>\u001b[0m start, end \u001b[39m=\u001b[39m find_start_and_end(maze)\n\u001b[1;32m---> <a href='vscode-notebook-cell:/c%3A/Users/pcBEN/Desktop/algo%20pro/TD4algo.ipynb#X10sZmlsZQ%3D%3D?line=44'>45</a>\u001b[0m \u001b[39mif\u001b[39;00m bfs(maze, start, end):\n\u001b[0;32m     <a href='vscode-notebook-cell:/c%3A/Users/pcBEN/Desktop/algo%20pro/TD4algo.ipynb#X10sZmlsZQ%3D%3D?line=45'>46</a>\u001b[0m     save_maze(\u001b[39m\"\u001b[39m\u001b[39mmaze-out.mz\u001b[39m\u001b[39m\"\u001b[39m, maze)\n\u001b[0;32m     <a href='vscode-notebook-cell:/c%3A/Users/pcBEN/Desktop/algo%20pro/TD4algo.ipynb#X10sZmlsZQ%3D%3D?line=46'>47</a>\u001b[0m     \u001b[39mprint\u001b[39m(\u001b[39m\"\u001b[39m\u001b[39mMaze solved! Solution saved in \u001b[39m\u001b[39m'\u001b[39m\u001b[39mmaze-out.mz\u001b[39m\u001b[39m'\u001b[39m\u001b[39m.\u001b[39m\u001b[39m\"\u001b[39m)\n",
      "\u001b[1;32mc:\\Users\\pcBEN\\Desktop\\algo pro\\TD4algo.ipynb Cell 8\u001b[0m line \u001b[0;36m3\n\u001b[0;32m     <a href='vscode-notebook-cell:/c%3A/Users/pcBEN/Desktop/algo%20pro/TD4algo.ipynb#X10sZmlsZQ%3D%3D?line=28'>29</a>\u001b[0m     \u001b[39mreturn\u001b[39;00m \u001b[39mTrue\u001b[39;00m\n\u001b[0;32m     <a href='vscode-notebook-cell:/c%3A/Users/pcBEN/Desktop/algo%20pro/TD4algo.ipynb#X10sZmlsZQ%3D%3D?line=30'>31</a>\u001b[0m \u001b[39mfor\u001b[39;00m \u001b[39mdir\u001b[39m \u001b[39min\u001b[39;00m directions:\n\u001b[1;32m---> <a href='vscode-notebook-cell:/c%3A/Users/pcBEN/Desktop/algo%20pro/TD4algo.ipynb#X10sZmlsZQ%3D%3D?line=31'>32</a>\u001b[0m     row, col \u001b[39m=\u001b[39m current[\u001b[39m0\u001b[39;49m] \u001b[39m+\u001b[39;49m \u001b[39mdir\u001b[39;49m[\u001b[39m0\u001b[39;49m], current[\u001b[39m1\u001b[39m] \u001b[39m+\u001b[39m \u001b[39mdir\u001b[39m[\u001b[39m1\u001b[39m]\n\u001b[0;32m     <a href='vscode-notebook-cell:/c%3A/Users/pcBEN/Desktop/algo%20pro/TD4algo.ipynb#X10sZmlsZQ%3D%3D?line=32'>33</a>\u001b[0m     \u001b[39mif\u001b[39;00m \u001b[39m0\u001b[39m \u001b[39m<\u001b[39m\u001b[39m=\u001b[39m row \u001b[39m<\u001b[39m \u001b[39mlen\u001b[39m(maze) \u001b[39mand\u001b[39;00m \u001b[39m0\u001b[39m \u001b[39m<\u001b[39m\u001b[39m=\u001b[39m col \u001b[39m<\u001b[39m \u001b[39mlen\u001b[39m(maze[\u001b[39m0\u001b[39m]) \u001b[39mand\u001b[39;00m maze[row][col] \u001b[39m==\u001b[39m \u001b[39m'\u001b[39m\u001b[39m \u001b[39m\u001b[39m'\u001b[39m \u001b[39mand\u001b[39;00m (row, col) \u001b[39mnot\u001b[39;00m \u001b[39min\u001b[39;00m visited:\n\u001b[0;32m     <a href='vscode-notebook-cell:/c%3A/Users/pcBEN/Desktop/algo%20pro/TD4algo.ipynb#X10sZmlsZQ%3D%3D?line=33'>34</a>\u001b[0m         q\u001b[39m.\u001b[39mput((row, col))\n",
      "\u001b[1;31mTypeError\u001b[0m: can only concatenate str (not \"int\") to str"
     ]
    }
   ],
   "source": [
    "import queue\n",
    "\n",
    "def load_maze(file_name):\n",
    "    with open(file_name, 'r') as file:\n",
    "        maze = [list(line.strip()) for line in file]\n",
    "    return maze\n",
    "\n",
    "def save_maze(file_name, maze):\n",
    "    with open(file_name, 'w') as file:\n",
    "        for row in maze:\n",
    "            file.write(''.join(row) + '\\n')\n",
    "\n",
    "def find_start_and_end(maze):\n",
    "    start = end = None\n",
    "    len(maze)\n",
    "    start = maze[0][0]\n",
    "    end = maze[0][100]\n",
    "    return start, end\n",
    "\n",
    "def bfs(maze, start, end):\n",
    "    directions = [(1, 0), (-1, 0), (0, 1), (0, -1)]\n",
    "    visited = set()\n",
    "    q = queue.Queue()\n",
    "    q.put(start)\n",
    "\n",
    "    while not q.empty():\n",
    "        current = q.get()\n",
    "        if current == end:\n",
    "            return True\n",
    "\n",
    "        for dir in directions:\n",
    "            row, col = current[0] + dir[0], current[1] + dir[1]\n",
    "            if 0 <= row < len(maze) and 0 <= col < len(maze[0]) and maze[row][col] == ' ' and (row, col) not in visited:\n",
    "                q.put((row, col))\n",
    "                visited.add((row, col))\n",
    "                maze[row][col] = 'X'  # Mark the path with 'X'\n",
    "\n",
    "    return False\n",
    "\n",
    "if __name__ == \"__main__\":\n",
    "    maze_file = \"maze.mz.txt\"\n",
    "    maze = load_maze(maze_file)\n",
    "    start, end = find_start_and_end(maze)\n",
    "\n",
    "    if bfs(maze, start, end):\n",
    "        save_maze(\"maze-out.mz\", maze)\n",
    "        print(\"Maze solved! Solution saved in 'maze-out.mz'.\")\n",
    "    else:\n",
    "        print(\"No solution found for the maze.\")\n"
   ]
  },
  {
   "cell_type": "markdown",
   "metadata": {},
   "source": [
    "**Job 4.4**"
   ]
  },
  {
   "cell_type": "code",
   "execution_count": 6,
   "metadata": {},
   "outputs": [
    {
     "name": "stdout",
     "output_type": "stream",
     "text": [
      "1: The two strings are identical considering '*' as wildcard.\n"
     ]
    }
   ],
   "source": [
    "def are_strings_identical(str1, str2):\n",
    "    len1, len2 = len(str1), len(str2)\n",
    "    L = ''\n",
    "    for i in range(len2):\n",
    "        if str2[i] != '*':\n",
    "            L += str2[i]\n",
    "    if L == str1 :\n",
    "        print(\"1: The two strings are identical considering '*' as wildcard.\")\n",
    "    elif len(L)< len1 and L in str1:\n",
    "        print(\"1: The two strings are identical considering '*' as wildcard.\")\n",
    "    else : \n",
    "        print(\"0: The two strings are not identical considering '*' as wildcard.\")\n",
    "        \n",
    "        \n",
    "if __name__ == \"__main__\":\n",
    "    str1 = input(\"Enter the first string: \")\n",
    "    str2 = input(\"Enter the second string with '*' as wildcard: \")\n",
    "    are_strings_identical(str1.lower(), str2.lower())\n"
   ]
  }
 ],
 "metadata": {
  "kernelspec": {
   "display_name": "Python 3",
   "language": "python",
   "name": "python3"
  },
  "language_info": {
   "codemirror_mode": {
    "name": "ipython",
    "version": 3
   },
   "file_extension": ".py",
   "mimetype": "text/x-python",
   "name": "python",
   "nbconvert_exporter": "python",
   "pygments_lexer": "ipython3",
   "version": "3.11.5"
  },
  "orig_nbformat": 4
 },
 "nbformat": 4,
 "nbformat_minor": 2
}
